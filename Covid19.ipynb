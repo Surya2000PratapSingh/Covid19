{
  "cells": [
    {
      "cell_type": "markdown",
      "metadata": {
        "id": "view-in-github",
        "colab_type": "text"
      },
      "source": [
        "<a href=\"https://colab.research.google.com/github/Surya2000PratapSingh/Covid19/blob/main/Covid19.ipynb\" target=\"_parent\"><img src=\"https://colab.research.google.com/assets/colab-badge.svg\" alt=\"Open In Colab\"/></a>"
      ]
    },
    {
      "cell_type": "code",
      "source": [
        "from google.colab import drive\n",
        "drive.mount('/content/drive')"
      ],
      "metadata": {
        "colab": {
          "base_uri": "https://localhost:8080/"
        },
        "id": "1HPgQhV24RNR",
        "outputId": "945b0173-43a4-4c55-f893-ef9ffde03734"
      },
      "execution_count": 1,
      "outputs": [
        {
          "output_type": "stream",
          "name": "stdout",
          "text": [
            "Mounted at /content/drive\n"
          ]
        }
      ]
    },
    {
      "cell_type": "code",
      "execution_count": 4,
      "metadata": {
        "id": "F-aPCl-b8jOp"
      },
      "outputs": [],
      "source": [
        "import tensorflow as tf\n",
        "from tensorflow import keras\n",
        "from keras import Sequential\n",
        "from keras.layers import Dense,Conv2D,MaxPooling2D,Flatten,BatchNormalization,Dropout\n",
        "from tensorflow.keras.preprocessing.image import ImageDataGenerator\n",
        "from tensorflow.keras.models import Sequential\n",
        "from tensorflow.keras.layers import Conv2D, MaxPooling2D, Flatten, Dense"
      ]
    },
    {
      "cell_type": "code",
      "execution_count": null,
      "metadata": {
        "colab": {
          "base_uri": "https://localhost:8080/"
        },
        "id": "q37RVtGKFzC6",
        "outputId": "b2f85c84-e54a-4030-984e-98d93ed5a522"
      },
      "outputs": [
        {
          "name": "stdout",
          "output_type": "stream",
          "text": [
            "Found 251 images belonging to 3 classes.\n",
            "Found 66 images belonging to 3 classes.\n"
          ]
        }
      ],
      "source": [
        "# MODEL 1 MULTI CLASS CLASSIFIER\n",
        "\n",
        "# Load the dataset\n",
        "train_datagen = ImageDataGenerator(rescale=1./255)\n",
        "train_ds = train_datagen.flow_from_directory(\n",
        "    '/content/Covid19-dataset/train',\n",
        "    target_size=(224, 224),\n",
        "    batch_size=32,\n",
        "    class_mode='categorical')\n",
        "\n",
        "test_datagen = ImageDataGenerator(rescale=1./255)\n",
        "test_ds = test_datagen.flow_from_directory(\n",
        "    '/content/Covid19-dataset/test',\n",
        "    target_size=(224, 224),\n",
        "    batch_size=32,\n",
        "    class_mode='categorical')\n",
        "\n",
        "\n",
        "\n",
        "# Define the model\n",
        "model = Sequential()\n",
        "model.add(Conv2D(32, (3, 3), activation='relu', input_shape=(224, 224, 3)))\n",
        "model.add(MaxPooling2D((2, 2)))\n",
        "model.add(Conv2D(64, (3, 3), activation='relu'))\n",
        "model.add(MaxPooling2D((2, 2)))\n",
        "model.add(Flatten())\n",
        "model.add(Dense(128, activation='relu'))\n",
        "model.add(Dense(3, activation='softmax'))\n",
        "\n",
        "model.summary()\n",
        "\n",
        "# Compile the model\n",
        "model.compile(loss='categorical_crossentropy', optimizer='adam', metrics=['accuracy'])\n",
        "\n",
        "# Train the model\n",
        "history=model.fit(train_generator, epochs=10,validation_data=test_generator)\n",
        "\n",
        "# Evaluate the model\n",
        "test_loss, test_accuracy = model.evaluate(test_generator)\n",
        "\n",
        "print('Test loss:', test_loss)\n",
        "print('Test accuracy:', test_accuracy)\n",
        "\n",
        "\n",
        "\n",
        "\n",
        "# Make predictions on the test set\n",
        "test_predictions = model.predict(test_ds)\n",
        "\n",
        "# Calculate accuracy, precision, recall, F1 score, confusion matrix, and AUROC\n",
        "accuracy = accuracy_score(test_ds.classes, test_predictions.argmax(axis=1))\n",
        "precision = precision_score(test_ds.classes, test_predictions.argmax(axis=1), average='micro')\n",
        "recall = recall_score(test_ds.classes, test_predictions.argmax(axis=1), average='micro')\n",
        "f1_score = f1_score(test_ds.classes, test_predictions.argmax(axis=1), average='micro')\n",
        "confusion_matrix = confusion_matrix(test_ds.classes, test_predictions.argmax(axis=1))\n",
        "\n",
        "# Print the results\n",
        "print('Accuracy:', accuracy)\n",
        "print('Precision:', precision)\n",
        "print('Recall:', recall)\n",
        "print('F1 score:', f1_score)\n",
        "print('Confusion matrix:')\n",
        "print(confusion_matrix)\n"
      ]
    },
    {
      "cell_type": "code",
      "source": [
        "# MODEL 2 (2 Level Classifier)\n",
        "\n",
        "import os\n",
        "import numpy as np\n",
        "from keras.preprocessing.image import ImageDataGenerator\n",
        "from keras.models import Sequential\n",
        "from keras.layers import Conv2D, MaxPooling2D, Flatten, Dense\n",
        "\n",
        "\n",
        "# Define paths for train and test datasets\n",
        "train_data_dir = '/content/drive/MyDrive/Covid19-dataset/train'\n",
        "test_data_dir = '/content/drive/MyDrive/Covid19-dataset/test'\n",
        "img_width, img_height = 224, 224\n",
        "\n",
        "\n",
        "# Rescale pixel values and perform data augmentation for the training dataset\n",
        "train_datagen = ImageDataGenerator(\n",
        "    rescale=1.0/255.0,\n",
        "    shear_range=0.2,\n",
        "    zoom_range=0.2,\n",
        "    horizontal_flip=True\n",
        ")\n",
        "\n",
        "# Only rescale pixel values for the testing dataset\n",
        "test_datagen = ImageDataGenerator(rescale=1.0/255.0)\n",
        "\n",
        "# Load and prepare the training data\n",
        "train_generator = train_datagen.flow_from_directory(\n",
        "    train_data_dir,\n",
        "    target_size=(img_width, img_height),\n",
        "    batch_size=32,\n",
        "    class_mode='binary'\n",
        ")\n",
        "\n",
        "# Load and prepare the testing data\n",
        "test_generator = test_datagen.flow_from_directory(\n",
        "    test_data_dir,\n",
        "    target_size=(img_width, img_height),\n",
        "    batch_size=32,\n",
        "    class_mode='binary'\n",
        ")\n",
        "\n",
        "# First Classifier: Normal vs. Abnormal\n",
        "model_first = Sequential()\n",
        "model_first.add(Conv2D(32, (3, 3), input_shape=(img_width, img_height, 3), activation='relu'))\n",
        "model_first.add(MaxPooling2D(pool_size=(2, 2)))\n",
        "model_first.add(Flatten())\n",
        "model_first.add(Dense(128, activation='relu'))\n",
        "model_first.add(Dense(1, activation='sigmoid'))\n",
        "\n",
        "# Compile the first model\n",
        "model_first.compile(loss='binary_crossentropy', optimizer='adam', metrics=['accuracy'])\n",
        "\n",
        "# Train the first model\n",
        "model_first.fit_generator(\n",
        "    train_generator,\n",
        "    steps_per_epoch=train_generator.samples // train_generator.batch_size,\n",
        "    epochs=10,\n",
        "    validation_data=test_generator,\n",
        "    validation_steps=test_generator.samples // test_generator.batch_size\n",
        ")\n",
        "\n",
        "# Second Classifier: COVID vs. Pneumonia\n",
        "abnormal_data_dir = '/content/drive/MyDrive/Covid19-dataset/train/Abnormal'\n",
        "abnormal_generator = train_datagen.flow_from_directory(\n",
        "    abnormal_data_dir,\n",
        "    target_size=(img_width, img_height),\n",
        "    batch_size=32,\n",
        "    class_mode='binary'\n",
        ")\n",
        "\n",
        "model_second = Sequential()\n",
        "model_second.add(Conv2D(32, (3, 3), input_shape=(img_width, img_height, 3), activation='relu'))\n",
        "model_second.add(MaxPooling2D(pool_size=(2, 2)))\n",
        "model_second.add(Flatten())\n",
        "model_second.add(Dense(128, activation='relu'))\n",
        "model_second.add(Dense(1, activation='sigmoid'))\n",
        "\n",
        "# Compile the second model\n",
        "model_second.compile(loss='binary_crossentropy', optimizer='adam', metrics=['accuracy'])\n",
        "\n",
        "# Train the second model\n",
        "model_second.fit_generator(\n",
        "    abnormal_generator,\n",
        "    steps_per_epoch=abnormal_generator.samples // abnormal_generator.batch_size,\n",
        "    epochs=10,\n",
        ")\n",
        "\n",
        "\n",
        "\n",
        "# Final Evaluation\n",
        "# Use model_first to predict if an image is normal or abnormal.\n",
        "# If the image is abnormal, use model_second to predict whether it's COVID or pneumonia.\n"
      ],
      "metadata": {
        "id": "Z_pVtd6tu9QV"
      },
      "execution_count": null,
      "outputs": []
    },
    {
      "cell_type": "code",
      "source": [
        "test_loss1, test_accuracy1 = model_first.evaluate(test_generator)\n",
        "\n",
        "print('Test loss:', test_loss1)\n",
        "print('Test accuracy:', test_accuracy1)\n",
        "\n",
        "test_loss,2 test_accuracy2 = model_second.evaluate(test_generator)\n",
        "\n",
        "print('Test loss:', test_loss2)\n",
        "print('Test accuracy:', test_accuracy2)"
      ],
      "metadata": {
        "id": "Rfw5pSbCvOXb"
      },
      "execution_count": null,
      "outputs": []
    }
  ],
  "metadata": {
    "accelerator": "GPU",
    "colab": {
      "provenance": [],
      "include_colab_link": true
    },
    "kernelspec": {
      "display_name": "Python 3",
      "name": "python3"
    },
    "language_info": {
      "name": "python"
    }
  },
  "nbformat": 4,
  "nbformat_minor": 0
}